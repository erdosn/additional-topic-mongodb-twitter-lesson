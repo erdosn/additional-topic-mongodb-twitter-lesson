{
 "cells": [
  {
   "cell_type": "markdown",
   "metadata": {},
   "source": [
    "### Questions"
   ]
  },
  {
   "cell_type": "markdown",
   "metadata": {},
   "source": [
    "### Objectives\n",
    "YWBAT\n",
    "- apply twitter's streamlistener to gather data on a continuous basis\n",
    "- store data as csv format and save as file"
   ]
  },
  {
   "cell_type": "markdown",
   "metadata": {},
   "source": [
    "### Outline"
   ]
  },
  {
   "cell_type": "code",
   "execution_count": 12,
   "metadata": {},
   "outputs": [],
   "source": [
    "import json # used to read twitter data\n",
    "import pandas as pd\n",
    "import numpy as np\n",
    "import tweepy as tw\n",
    "\n",
    "from pprint import pprint\n",
    "from pymongo import MongoClient\n",
    "\n",
    "import matplotlib.pyplot as plt"
   ]
  },
  {
   "cell_type": "markdown",
   "metadata": {},
   "source": [
    "### Load our twitter permissions and connect to Twitter using Tweepy"
   ]
  },
  {
   "cell_type": "code",
   "execution_count": 1,
   "metadata": {},
   "outputs": [
    {
     "ename": "FileNotFoundError",
     "evalue": "[Errno 2] No such file or directory: ''",
     "output_type": "error",
     "traceback": [
      "\u001b[0;31m---------------------------------------------------------------------------\u001b[0m",
      "\u001b[0;31mFileNotFoundError\u001b[0m                         Traceback (most recent call last)",
      "\u001b[0;32m<ipython-input-1-a6c6df099b6f>\u001b[0m in \u001b[0;36m<module>\u001b[0;34m\u001b[0m\n\u001b[1;32m      1\u001b[0m \u001b[0;31m# use 'with' to open file because it automatically closes files for you\u001b[0m\u001b[0;34m\u001b[0m\u001b[0;34m\u001b[0m\u001b[0;34m\u001b[0m\u001b[0m\n\u001b[0;32m----> 2\u001b[0;31m \u001b[0;32mwith\u001b[0m \u001b[0mopen\u001b[0m\u001b[0;34m(\u001b[0m\u001b[0;34m\"\"\u001b[0m\u001b[0;34m)\u001b[0m \u001b[0;32mas\u001b[0m \u001b[0mf\u001b[0m\u001b[0;34m:\u001b[0m\u001b[0;34m\u001b[0m\u001b[0;34m\u001b[0m\u001b[0m\n\u001b[0m\u001b[1;32m      3\u001b[0m     \u001b[0md\u001b[0m \u001b[0;34m=\u001b[0m \u001b[0mjson\u001b[0m\u001b[0;34m.\u001b[0m\u001b[0mload\u001b[0m\u001b[0;34m(\u001b[0m\u001b[0mf\u001b[0m\u001b[0;34m)\u001b[0m\u001b[0;34m\u001b[0m\u001b[0;34m\u001b[0m\u001b[0m\n\u001b[1;32m      4\u001b[0m \u001b[0mprint\u001b[0m\u001b[0;34m(\u001b[0m\u001b[0md\u001b[0m\u001b[0;34m.\u001b[0m\u001b[0mkeys\u001b[0m\u001b[0;34m(\u001b[0m\u001b[0;34m)\u001b[0m\u001b[0;34m)\u001b[0m\u001b[0;34m\u001b[0m\u001b[0;34m\u001b[0m\u001b[0m\n",
      "\u001b[0;31mFileNotFoundError\u001b[0m: [Errno 2] No such file or directory: ''"
     ]
    }
   ],
   "source": [
    "# use 'with' to open file because it automatically closes files for you\n",
    "with open(\"\") as f:\n",
    "    d = json.load(f)\n",
    "print(d.keys())"
   ]
  },
  {
   "cell_type": "code",
   "execution_count": null,
   "metadata": {},
   "outputs": [],
   "source": []
  },
  {
   "cell_type": "code",
   "execution_count": 4,
   "metadata": {},
   "outputs": [],
   "source": [
    "# create your auth\n",
    "auth = tw.OAuthHandler(consumer_key=d[\"consumer_key\"], consumer_secret=d[\"consumer_secret\"])"
   ]
  },
  {
   "cell_type": "code",
   "execution_count": 7,
   "metadata": {},
   "outputs": [],
   "source": [
    "# pass in key and secret to your auth handler\n",
    "auth.set_access_token(key=d[\"access_token\"], secret=d[\"access_token_secret\"])"
   ]
  },
  {
   "cell_type": "code",
   "execution_count": 8,
   "metadata": {},
   "outputs": [],
   "source": [
    "# create our api (the thing we use to interact with twitter) by passing in our auth\n",
    "api = tw.API(auth_handler=auth)"
   ]
  },
  {
   "cell_type": "code",
   "execution_count": 17,
   "metadata": {},
   "outputs": [],
   "source": [
    "# check connection with basic search (uncomment lines below to run)\n",
    "# for res in api.search(\"Drake\", tweet_mode='extended'):\n",
    "#     pprint(res._json)\n",
    "#     break"
   ]
  },
  {
   "cell_type": "markdown",
   "metadata": {},
   "source": [
    "### Let's build a StreamListener to get more and more tweets"
   ]
  },
  {
   "cell_type": "code",
   "execution_count": 18,
   "metadata": {},
   "outputs": [],
   "source": [
    "# Build our StreamListener\n",
    "# Twitter requires you to populate it's methods"
   ]
  },
  {
   "cell_type": "code",
   "execution_count": 43,
   "metadata": {},
   "outputs": [],
   "source": [
    "# child class of StreamListener class\n",
    "\n",
    "class MyStreamListener(tw.StreamListener):\n",
    "\n",
    "    def on_status(self, status):\n",
    "        print(status.text)"
   ]
  },
  {
   "cell_type": "code",
   "execution_count": 48,
   "metadata": {},
   "outputs": [],
   "source": [
    "# this is our listener\n",
    "myStreamListener = MyStreamListener()\n",
    "myStream = tw.Stream(auth = api.auth, listener=myStreamListener, tweet_mode='extended')"
   ]
  },
  {
   "cell_type": "code",
   "execution_count": null,
   "metadata": {},
   "outputs": [],
   "source": [
    "# myStream.filter(track=[\"drake\", \"Drake\", \"#carepackage\", \"#drake\", \"#Drake\"])"
   ]
  },
  {
   "cell_type": "markdown",
   "metadata": {},
   "source": [
    "### Let's store tweets in a mongodb"
   ]
  },
  {
   "cell_type": "markdown",
   "metadata": {},
   "source": [
    "### Step 1: run `mongod` in terminal and connect to it using pymongo.MongoClient"
   ]
  },
  {
   "cell_type": "code",
   "execution_count": 25,
   "metadata": {},
   "outputs": [],
   "source": [
    "client = MongoClient(port=27017, host='localhost')"
   ]
  },
  {
   "cell_type": "code",
   "execution_count": 29,
   "metadata": {},
   "outputs": [],
   "source": [
    "# storing names of dbs to a list\n",
    "db_names_list = client.list_database_names()"
   ]
  },
  {
   "cell_type": "code",
   "execution_count": 33,
   "metadata": {},
   "outputs": [],
   "source": [
    "# mongo is built on json formatting so everything reads like a dictionary\n",
    "music_tweets = client[\"music_tweets\"]"
   ]
  },
  {
   "cell_type": "code",
   "execution_count": 35,
   "metadata": {},
   "outputs": [],
   "source": [
    "# new collection/table called drake\n",
    "drake = music_tweets[\"drake\"]"
   ]
  },
  {
   "cell_type": "code",
   "execution_count": 37,
   "metadata": {},
   "outputs": [
    {
     "data": {
      "text/plain": [
       "['kendrickLamar']"
      ]
     },
     "execution_count": 37,
     "metadata": {},
     "output_type": "execute_result"
    }
   ],
   "source": [
    "# notice we don't see the drake collection yet...why?\n",
    "# this is because a collection needs a document in order to get built\n",
    "music_tweets.list_collection_names()"
   ]
  },
  {
   "cell_type": "markdown",
   "metadata": {},
   "source": [
    "### rewrite our on_status method from MyStreamListener to write into our db"
   ]
  },
  {
   "cell_type": "code",
   "execution_count": 46,
   "metadata": {},
   "outputs": [],
   "source": [
    "# edited for our mongodb child class of StreamListener class\n",
    "\n",
    "class MyStreamListener(tw.StreamListener):\n",
    "\n",
    "    def on_status(self, status):\n",
    "        j = status._json\n",
    "        drake.insert_one(j)\n",
    "        print(f'inserted tweet: {j[\"text\"]}')\n",
    "        pass"
   ]
  },
  {
   "cell_type": "markdown",
   "metadata": {},
   "source": [
    "### Let's store tweets in our drake collection in the music_tweets db\n"
   ]
  },
  {
   "cell_type": "code",
   "execution_count": null,
   "metadata": {},
   "outputs": [],
   "source": [
    "# rerun our myStream object to reset the memory\n",
    "myStreamListener = MyStreamListener()\n",
    "myStream = tw.Stream(auth = api.auth, listener=myStreamListener, tweet_mode='extended')"
   ]
  },
  {
   "cell_type": "code",
   "execution_count": null,
   "metadata": {
    "scrolled": false
   },
   "outputs": [],
   "source": [
    "myStream.filter(track=[\"drake\", \"Drake\", \"#carepackage\", \"#drake\", \"#Drake\"])"
   ]
  },
  {
   "cell_type": "markdown",
   "metadata": {},
   "source": [
    "### let's get some numbers on our new data"
   ]
  },
  {
   "cell_type": "code",
   "execution_count": 50,
   "metadata": {},
   "outputs": [
    {
     "data": {
      "text/plain": [
       "['drake', 'kendrickLamar']"
      ]
     },
     "execution_count": 50,
     "metadata": {},
     "output_type": "execute_result"
    }
   ],
   "source": [
    "music_tweets.list_collection_names()"
   ]
  },
  {
   "cell_type": "code",
   "execution_count": 52,
   "metadata": {},
   "outputs": [
    {
     "data": {
      "text/plain": [
       "2630"
      ]
     },
     "execution_count": 52,
     "metadata": {},
     "output_type": "execute_result"
    }
   ],
   "source": [
    "drake.count_documents(filter={}) #filter={} -> 'select * from drake'"
   ]
  },
  {
   "cell_type": "code",
   "execution_count": 54,
   "metadata": {},
   "outputs": [
    {
     "name": "stdout",
     "output_type": "stream",
     "text": [
      "{'_id': ObjectId('5d44694751483225fdac9acc'), 'created_at': 'Fri Aug 02 16:48:02 +0000 2019', 'id': 1157332236661866500, 'id_str': '1157332236661866500', 'text': 'RT @KenTheRuthless: This nigga Drake has me hyped over songs I’ve heard before. 😪 I hate this nigga.', 'source': '<a href=\"http://twitter.com/download/iphone\" rel=\"nofollow\">Twitter for iPhone</a>', 'truncated': False, 'in_reply_to_status_id': None, 'in_reply_to_status_id_str': None, 'in_reply_to_user_id': None, 'in_reply_to_user_id_str': None, 'in_reply_to_screen_name': None, 'user': {'id': 744747281547595776, 'id_str': '744747281547595776', 'name': 'Cash Marqtier 💷💵💶', 'screen_name': 'marqthemilkman', 'location': 'Sandy Springs, GA', 'url': 'http://soundcloud.com/augustmarquis', 'description': 'its like conquistador but Marquis instead 🐎Father of Fashion. Musical artist', 'translator_type': 'none', 'protected': False, 'verified': False, 'followers_count': 136, 'friends_count': 356, 'listed_count': 0, 'favourites_count': 5229, 'statuses_count': 1543, 'created_at': 'Mon Jun 20 04:22:43 +0000 2016', 'utc_offset': None, 'time_zone': None, 'geo_enabled': False, 'lang': None, 'contributors_enabled': False, 'is_translator': False, 'profile_background_color': 'F5F8FA', 'profile_background_image_url': '', 'profile_background_image_url_https': '', 'profile_background_tile': False, 'profile_link_color': '1DA1F2', 'profile_sidebar_border_color': 'C0DEED', 'profile_sidebar_fill_color': 'DDEEF6', 'profile_text_color': '333333', 'profile_use_background_image': True, 'profile_image_url': 'http://pbs.twimg.com/profile_images/1118458235818790913/ze3l5TG-_normal.jpg', 'profile_image_url_https': 'https://pbs.twimg.com/profile_images/1118458235818790913/ze3l5TG-_normal.jpg', 'profile_banner_url': 'https://pbs.twimg.com/profile_banners/744747281547595776/1545879537', 'default_profile': True, 'default_profile_image': False, 'following': None, 'follow_request_sent': None, 'notifications': None}, 'geo': None, 'coordinates': None, 'place': None, 'contributors': None, 'retweeted_status': {'created_at': 'Thu Aug 01 21:56:49 +0000 2019', 'id': 1157047557819949057, 'id_str': '1157047557819949057', 'text': 'This nigga Drake has me hyped over songs I’ve heard before. 😪 I hate this nigga.', 'source': '<a href=\"http://twitter.com/download/iphone\" rel=\"nofollow\">Twitter for iPhone</a>', 'truncated': False, 'in_reply_to_status_id': None, 'in_reply_to_status_id_str': None, 'in_reply_to_user_id': None, 'in_reply_to_user_id_str': None, 'in_reply_to_screen_name': None, 'user': {'id': 326281322, 'id_str': '326281322', 'name': '𝔊𝔯𝔦𝔪 𝔗𝔥𝔦𝔯𝔱𝔢𝔢𝔫', 'screen_name': 'KenTheRuthless', 'location': 'Atlanta', 'url': None, 'description': '☠️ 1397 ☠️', 'translator_type': 'none', 'protected': False, 'verified': False, 'followers_count': 2089, 'friends_count': 815, 'listed_count': 6, 'favourites_count': 3087, 'statuses_count': 89349, 'created_at': 'Wed Jun 29 17:26:57 +0000 2011', 'utc_offset': None, 'time_zone': None, 'geo_enabled': True, 'lang': None, 'contributors_enabled': False, 'is_translator': False, 'profile_background_color': 'C0DEED', 'profile_background_image_url': 'http://abs.twimg.com/images/themes/theme1/bg.png', 'profile_background_image_url_https': 'https://abs.twimg.com/images/themes/theme1/bg.png', 'profile_background_tile': True, 'profile_link_color': 'DD2E44', 'profile_sidebar_border_color': 'FFFFFF', 'profile_sidebar_fill_color': '210CE3', 'profile_text_color': '03FF8E', 'profile_use_background_image': True, 'profile_image_url': 'http://pbs.twimg.com/profile_images/1147530958704402432/sNtJ2whH_normal.jpg', 'profile_image_url_https': 'https://pbs.twimg.com/profile_images/1147530958704402432/sNtJ2whH_normal.jpg', 'profile_banner_url': 'https://pbs.twimg.com/profile_banners/326281322/1554696484', 'default_profile': False, 'default_profile_image': False, 'following': None, 'follow_request_sent': None, 'notifications': None}, 'geo': None, 'coordinates': None, 'place': None, 'contributors': None, 'is_quote_status': False, 'quote_count': 616, 'reply_count': 51, 'retweet_count': 10483, 'favorite_count': 30512, 'entities': {'hashtags': [], 'urls': [], 'user_mentions': [], 'symbols': []}, 'favorited': False, 'retweeted': False, 'filter_level': 'low', 'lang': 'en'}, 'is_quote_status': False, 'quote_count': 0, 'reply_count': 0, 'retweet_count': 0, 'favorite_count': 0, 'entities': {'hashtags': [], 'urls': [], 'user_mentions': [{'screen_name': 'KenTheRuthless', 'name': '𝔊𝔯𝔦𝔪 𝔗𝔥𝔦𝔯𝔱𝔢𝔢𝔫', 'id': 326281322, 'id_str': '326281322', 'indices': [3, 18]}], 'symbols': []}, 'favorited': False, 'retweeted': False, 'filter_level': 'low', 'lang': 'en', 'timestamp_ms': '1564764482070'}\n"
     ]
    }
   ],
   "source": [
    "# let's view these tweets\n",
    "for res in drake.find(filter={}):\n",
    "    print(res)\n",
    "    break\n",
    "# excuse the language"
   ]
  },
  {
   "cell_type": "markdown",
   "metadata": {},
   "source": [
    "### Now let's load these into a dataframe"
   ]
  },
  {
   "cell_type": "code",
   "execution_count": 59,
   "metadata": {},
   "outputs": [
    {
     "data": {
      "text/html": [
       "<div>\n",
       "<style scoped>\n",
       "    .dataframe tbody tr th:only-of-type {\n",
       "        vertical-align: middle;\n",
       "    }\n",
       "\n",
       "    .dataframe tbody tr th {\n",
       "        vertical-align: top;\n",
       "    }\n",
       "\n",
       "    .dataframe thead th {\n",
       "        text-align: right;\n",
       "    }\n",
       "</style>\n",
       "<table border=\"1\" class=\"dataframe\">\n",
       "  <thead>\n",
       "    <tr style=\"text-align: right;\">\n",
       "      <th></th>\n",
       "      <th>_id</th>\n",
       "      <th>contributors</th>\n",
       "      <th>coordinates</th>\n",
       "      <th>created_at</th>\n",
       "      <th>display_text_range</th>\n",
       "      <th>entities</th>\n",
       "      <th>extended_entities</th>\n",
       "      <th>extended_tweet</th>\n",
       "      <th>favorite_count</th>\n",
       "      <th>favorited</th>\n",
       "      <th>...</th>\n",
       "      <th>quoted_status_permalink</th>\n",
       "      <th>reply_count</th>\n",
       "      <th>retweet_count</th>\n",
       "      <th>retweeted</th>\n",
       "      <th>retweeted_status</th>\n",
       "      <th>source</th>\n",
       "      <th>text</th>\n",
       "      <th>timestamp_ms</th>\n",
       "      <th>truncated</th>\n",
       "      <th>user</th>\n",
       "    </tr>\n",
       "  </thead>\n",
       "  <tbody>\n",
       "    <tr>\n",
       "      <th>0</th>\n",
       "      <td>5d44694751483225fdac9acc</td>\n",
       "      <td>None</td>\n",
       "      <td>None</td>\n",
       "      <td>Fri Aug 02 16:48:02 +0000 2019</td>\n",
       "      <td>NaN</td>\n",
       "      <td>{'hashtags': [], 'urls': [], 'user_mentions': ...</td>\n",
       "      <td>NaN</td>\n",
       "      <td>NaN</td>\n",
       "      <td>0</td>\n",
       "      <td>False</td>\n",
       "      <td>...</td>\n",
       "      <td>NaN</td>\n",
       "      <td>0</td>\n",
       "      <td>0</td>\n",
       "      <td>False</td>\n",
       "      <td>{'created_at': 'Thu Aug 01 21:56:49 +0000 2019...</td>\n",
       "      <td>&lt;a href=\"http://twitter.com/download/iphone\" r...</td>\n",
       "      <td>RT @KenTheRuthless: This nigga Drake has me hy...</td>\n",
       "      <td>1564764482070</td>\n",
       "      <td>False</td>\n",
       "      <td>{'id': 744747281547595776, 'id_str': '74474728...</td>\n",
       "    </tr>\n",
       "    <tr>\n",
       "      <th>1</th>\n",
       "      <td>5d44694751483225fdac9acd</td>\n",
       "      <td>None</td>\n",
       "      <td>None</td>\n",
       "      <td>Fri Aug 02 16:48:02 +0000 2019</td>\n",
       "      <td>NaN</td>\n",
       "      <td>{'hashtags': [], 'urls': [], 'user_mentions': ...</td>\n",
       "      <td>NaN</td>\n",
       "      <td>NaN</td>\n",
       "      <td>0</td>\n",
       "      <td>False</td>\n",
       "      <td>...</td>\n",
       "      <td>NaN</td>\n",
       "      <td>0</td>\n",
       "      <td>0</td>\n",
       "      <td>False</td>\n",
       "      <td>{'created_at': 'Thu Aug 01 23:33:13 +0000 2019...</td>\n",
       "      <td>&lt;a href=\"http://twitter.com/download/iphone\" r...</td>\n",
       "      <td>RT @Jersey_Jinx: I'll also say that Drake's mu...</td>\n",
       "      <td>1564764482017</td>\n",
       "      <td>False</td>\n",
       "      <td>{'id': 2847895388, 'id_str': '2847895388', 'na...</td>\n",
       "    </tr>\n",
       "    <tr>\n",
       "      <th>2</th>\n",
       "      <td>5d44694751483225fdac9ace</td>\n",
       "      <td>None</td>\n",
       "      <td>None</td>\n",
       "      <td>Fri Aug 02 16:48:02 +0000 2019</td>\n",
       "      <td>NaN</td>\n",
       "      <td>{'hashtags': [], 'urls': [], 'user_mentions': ...</td>\n",
       "      <td>{'media': [{'id': 1157042637473325056, 'id_str...</td>\n",
       "      <td>NaN</td>\n",
       "      <td>0</td>\n",
       "      <td>False</td>\n",
       "      <td>...</td>\n",
       "      <td>NaN</td>\n",
       "      <td>0</td>\n",
       "      <td>0</td>\n",
       "      <td>False</td>\n",
       "      <td>{'created_at': 'Fri Aug 02 13:46:54 +0000 2019...</td>\n",
       "      <td>&lt;a href=\"http://twitter.com/download/iphone\" r...</td>\n",
       "      <td>RT @willis_cj: bringing this gem back to the T...</td>\n",
       "      <td>1564764482155</td>\n",
       "      <td>False</td>\n",
       "      <td>{'id': 543577551, 'id_str': '543577551', 'name...</td>\n",
       "    </tr>\n",
       "    <tr>\n",
       "      <th>3</th>\n",
       "      <td>5d44694751483225fdac9acf</td>\n",
       "      <td>None</td>\n",
       "      <td>None</td>\n",
       "      <td>Fri Aug 02 16:48:02 +0000 2019</td>\n",
       "      <td>NaN</td>\n",
       "      <td>{'hashtags': [], 'urls': [], 'user_mentions': ...</td>\n",
       "      <td>NaN</td>\n",
       "      <td>NaN</td>\n",
       "      <td>0</td>\n",
       "      <td>False</td>\n",
       "      <td>...</td>\n",
       "      <td>NaN</td>\n",
       "      <td>0</td>\n",
       "      <td>0</td>\n",
       "      <td>False</td>\n",
       "      <td>{'created_at': 'Fri Aug 02 04:18:54 +0000 2019...</td>\n",
       "      <td>&lt;a href=\"http://twitter.com/download/android\" ...</td>\n",
       "      <td>RT @big_business_: Drake was giving us toxic s...</td>\n",
       "      <td>1564764482544</td>\n",
       "      <td>False</td>\n",
       "      <td>{'id': 113987040, 'id_str': '113987040', 'name...</td>\n",
       "    </tr>\n",
       "    <tr>\n",
       "      <th>4</th>\n",
       "      <td>5d44694751483225fdac9ad0</td>\n",
       "      <td>None</td>\n",
       "      <td>None</td>\n",
       "      <td>Fri Aug 02 16:48:02 +0000 2019</td>\n",
       "      <td>NaN</td>\n",
       "      <td>{'hashtags': [], 'urls': [], 'user_mentions': ...</td>\n",
       "      <td>NaN</td>\n",
       "      <td>NaN</td>\n",
       "      <td>0</td>\n",
       "      <td>False</td>\n",
       "      <td>...</td>\n",
       "      <td>NaN</td>\n",
       "      <td>0</td>\n",
       "      <td>0</td>\n",
       "      <td>False</td>\n",
       "      <td>{'created_at': 'Fri Aug 02 06:07:28 +0000 2019...</td>\n",
       "      <td>&lt;a href=\"http://twitter.com/download/iphone\" r...</td>\n",
       "      <td>RT @zephaniiiah: this old drake hitting harder...</td>\n",
       "      <td>1564764482555</td>\n",
       "      <td>False</td>\n",
       "      <td>{'id': 2516793480, 'id_str': '2516793480', 'na...</td>\n",
       "    </tr>\n",
       "  </tbody>\n",
       "</table>\n",
       "<p>5 rows × 37 columns</p>\n",
       "</div>"
      ],
      "text/plain": [
       "                        _id contributors coordinates  \\\n",
       "0  5d44694751483225fdac9acc         None        None   \n",
       "1  5d44694751483225fdac9acd         None        None   \n",
       "2  5d44694751483225fdac9ace         None        None   \n",
       "3  5d44694751483225fdac9acf         None        None   \n",
       "4  5d44694751483225fdac9ad0         None        None   \n",
       "\n",
       "                       created_at display_text_range  \\\n",
       "0  Fri Aug 02 16:48:02 +0000 2019                NaN   \n",
       "1  Fri Aug 02 16:48:02 +0000 2019                NaN   \n",
       "2  Fri Aug 02 16:48:02 +0000 2019                NaN   \n",
       "3  Fri Aug 02 16:48:02 +0000 2019                NaN   \n",
       "4  Fri Aug 02 16:48:02 +0000 2019                NaN   \n",
       "\n",
       "                                            entities  \\\n",
       "0  {'hashtags': [], 'urls': [], 'user_mentions': ...   \n",
       "1  {'hashtags': [], 'urls': [], 'user_mentions': ...   \n",
       "2  {'hashtags': [], 'urls': [], 'user_mentions': ...   \n",
       "3  {'hashtags': [], 'urls': [], 'user_mentions': ...   \n",
       "4  {'hashtags': [], 'urls': [], 'user_mentions': ...   \n",
       "\n",
       "                                   extended_entities extended_tweet  \\\n",
       "0                                                NaN            NaN   \n",
       "1                                                NaN            NaN   \n",
       "2  {'media': [{'id': 1157042637473325056, 'id_str...            NaN   \n",
       "3                                                NaN            NaN   \n",
       "4                                                NaN            NaN   \n",
       "\n",
       "   favorite_count  favorited  ... quoted_status_permalink reply_count  \\\n",
       "0               0      False  ...                     NaN           0   \n",
       "1               0      False  ...                     NaN           0   \n",
       "2               0      False  ...                     NaN           0   \n",
       "3               0      False  ...                     NaN           0   \n",
       "4               0      False  ...                     NaN           0   \n",
       "\n",
       "   retweet_count retweeted                                   retweeted_status  \\\n",
       "0              0     False  {'created_at': 'Thu Aug 01 21:56:49 +0000 2019...   \n",
       "1              0     False  {'created_at': 'Thu Aug 01 23:33:13 +0000 2019...   \n",
       "2              0     False  {'created_at': 'Fri Aug 02 13:46:54 +0000 2019...   \n",
       "3              0     False  {'created_at': 'Fri Aug 02 04:18:54 +0000 2019...   \n",
       "4              0     False  {'created_at': 'Fri Aug 02 06:07:28 +0000 2019...   \n",
       "\n",
       "                                              source  \\\n",
       "0  <a href=\"http://twitter.com/download/iphone\" r...   \n",
       "1  <a href=\"http://twitter.com/download/iphone\" r...   \n",
       "2  <a href=\"http://twitter.com/download/iphone\" r...   \n",
       "3  <a href=\"http://twitter.com/download/android\" ...   \n",
       "4  <a href=\"http://twitter.com/download/iphone\" r...   \n",
       "\n",
       "                                                text   timestamp_ms truncated  \\\n",
       "0  RT @KenTheRuthless: This nigga Drake has me hy...  1564764482070     False   \n",
       "1  RT @Jersey_Jinx: I'll also say that Drake's mu...  1564764482017     False   \n",
       "2  RT @willis_cj: bringing this gem back to the T...  1564764482155     False   \n",
       "3  RT @big_business_: Drake was giving us toxic s...  1564764482544     False   \n",
       "4  RT @zephaniiiah: this old drake hitting harder...  1564764482555     False   \n",
       "\n",
       "                                                user  \n",
       "0  {'id': 744747281547595776, 'id_str': '74474728...  \n",
       "1  {'id': 2847895388, 'id_str': '2847895388', 'na...  \n",
       "2  {'id': 543577551, 'id_str': '543577551', 'name...  \n",
       "3  {'id': 113987040, 'id_str': '113987040', 'name...  \n",
       "4  {'id': 2516793480, 'id_str': '2516793480', 'na...  \n",
       "\n",
       "[5 rows x 37 columns]"
      ]
     },
     "execution_count": 59,
     "metadata": {},
     "output_type": "execute_result"
    }
   ],
   "source": [
    "document_list = list(drake.find(filter={}))\n",
    "df = pd.DataFrame(document_list) # list of jsons\n",
    "df.head()"
   ]
  },
  {
   "cell_type": "markdown",
   "metadata": {},
   "source": [
    "### Assessment"
   ]
  },
  {
   "cell_type": "code",
   "execution_count": null,
   "metadata": {},
   "outputs": [],
   "source": []
  }
 ],
 "metadata": {
  "kernelspec": {
   "display_name": "Python 3",
   "language": "python",
   "name": "python3"
  },
  "language_info": {
   "codemirror_mode": {
    "name": "ipython",
    "version": 3
   },
   "file_extension": ".py",
   "mimetype": "text/x-python",
   "name": "python",
   "nbconvert_exporter": "python",
   "pygments_lexer": "ipython3",
   "version": "3.7.3"
  }
 },
 "nbformat": 4,
 "nbformat_minor": 2
}
